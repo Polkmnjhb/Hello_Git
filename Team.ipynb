{
 "metadata": {
  "name": "Team"
 }, 
 "nbformat": 2, 
 "worksheets": [
  {
   "cells": [
    {
     "cell_type": "markdown", 
     "source": [
      "#(1)chapter1"
     ]
    }, 
    {
     "cell_type": "markdown", 
     "source": [
      "#(2) page1#"
     ]
    }, 
    {
     "cell_type": "markdown", 
     "source": [
      "#(command)", 
      "# (1) git clone ...", 
      "# (2) git status", 
      "# (3) git add", 
      "## (3.1) git add -i", 
      "#(4) git commit", 
      "##(4.1) git commit -m \"init project\"", 
      "##(4.2) git commit -m \"modify ipynbs\"", 
      "# (5) git push", 
      "##(5.1) git push -u origin master", 
      "#(7) git branch"
     ]
    }
   ]
  }
 ]
}