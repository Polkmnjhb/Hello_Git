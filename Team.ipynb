{
 "metadata": {
  "name": "Team"
 }, 
 "nbformat": 2, 
 "worksheets": [
  {
   "cells": [
    {
     "cell_type": "markdown", 
     "source": [
      "#(1)chapter1"
     ]
    }, 
    {
     "cell_type": "markdown", 
     "source": [
      "#(2) page1#"
     ]
    }, 
    {
     "cell_type": "code", 
     "collapsed": true, 
     "input": [], 
     "language": "python", 
     "outputs": []
    }
   ]
  }
 ]
}