{
 "metadata": {
  "name": "git commond"
 }, 
 "nbformat": 2, 
 "worksheets": [
  {
   "cells": [
    {
     "cell_type": "markdown", 
     "source": [
      "# (1) git clone ..."
     ]
    }, 
    {
     "cell_type": "markdown", 
     "source": [
      "# (2) git status"
     ]
    }, 
    {
     "cell_type": "markdown", 
     "source": [
      "# (3) git add", 
      "## (3.1) git add -i"
     ]
    }, 
    {
     "cell_type": "markdown", 
     "source": [
      "#(4) git commit", 
      "##(4.1) git commit -m \"init project\"", 
      "##(4.2) git commit -m \"modify ipynbs\""
     ]
    }, 
    {
     "cell_type": "markdown", 
     "source": [
      "# (5) git push", 
      "##(5.1) git push -u origin master"
     ]
    }, 
    {
     "cell_type": "markdown", 
     "source": [
      "#(7) git branch"
     ]
    }, 
    {
     "cell_type": "markdown", 
     "source": []
    }
   ]
  }
 ]
}