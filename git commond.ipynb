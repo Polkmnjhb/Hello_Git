{
 "metadata": {
  "name": "git commond"
 }, 
 "nbformat": 2, 
 "worksheets": [
  {
   "cells": [
    {
     "cell_type": "markdown", 
     "source": [
      "# (1) git clone ..."
     ]
    }, 
    {
     "cell_type": "markdown", 
     "source": [
      "# (2) git status"
     ]
    }, 
    {
     "cell_type": "markdown", 
     "source": [
      "# (3)git add"
     ]
    }, 
    {
     "cell_type": "markdown", 
     "source": []
    }
   ]
  }
 ]
}